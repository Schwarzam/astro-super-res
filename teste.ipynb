{
 "cells": [
  {
   "cell_type": "code",
   "execution_count": 1,
   "metadata": {},
   "outputs": [],
   "source": [
    "%load_ext autoreload\n",
    "%autoreload 2"
   ]
  },
  {
   "cell_type": "code",
   "execution_count": 2,
   "metadata": {},
   "outputs": [],
   "source": [
    "# import utils as u\n",
    "#u.create_data_lists([\"C:\\\\Users\\\\gusta\\\\Downloads\\\\train2014\\\\train2014\"], [\"C:\\\\Users\\\\gusta\\\\Downloads\\\\val2014\\\\val2014\"], 100, \"imgs_list\")"
   ]
  },
  {
   "cell_type": "code",
   "execution_count": 3,
   "metadata": {},
   "outputs": [],
   "source": [
    "import time\n",
    "import torch.backends.cudnn as cudnn\n",
    "import torch\n",
    "from torch import nn\n",
    "from models import SRResNet\n",
    "from datasets import SRDataset\n",
    "from utils import *"
   ]
  },
  {
   "cell_type": "code",
   "execution_count": 10,
   "metadata": {},
   "outputs": [],
   "source": [
    "# Data parameters\n",
    "data_folder = './imgs_list/'  # folder with JSON data files\n",
    "crop_size = 96  # crop size of target HR images\n",
    "scaling_factor = 4  # the scaling factor for the generator; the input LR images will be downsampled from the target HR images by this factor\n",
    "\n",
    "# Model parameters\n",
    "large_kernel_size = 9  # kernel size of the first and last convolutions which transform the inputs and outputs\n",
    "small_kernel_size = 3  # kernel size of all convolutions in-between, i.e. those in the residual and subpixel convolutional blocks\n",
    "n_channels = 64  # number of channels in-between, i.e. the input and output channels for the residual and subpixel convolutional blocks\n",
    "n_blocks = 16  # number of residual blocks\n",
    "\n",
    "# Learning parameters\n",
    "checkpoint = None  # path to model checkpoint, None if none\n",
    "batch_size = 96  # batch size\n",
    "start_epoch = 0  # start at this epoch\n",
    "iterations = 1e6  # number of training iterations\n",
    "workers = 8  # number of workers for loading data in the DataLoader\n",
    "print_freq = 100  # print training status once every __ batches\n",
    "lr = (1e-4)/2  # learning rate\n",
    "grad_clip = None  # clip if gradients are exploding\n",
    "\n",
    "device = torch.device(\"cuda\" if torch.cuda.is_available() else \"cpu\")\n",
    "\n",
    "cudnn.benchmark = True"
   ]
  },
  {
   "cell_type": "code",
   "execution_count": 11,
   "metadata": {},
   "outputs": [
    {
     "data": {
      "text/plain": [
       "device(type='cuda')"
      ]
     },
     "execution_count": 11,
     "metadata": {},
     "output_type": "execute_result"
    }
   ],
   "source": [
    "device"
   ]
  },
  {
   "cell_type": "code",
   "execution_count": 12,
   "metadata": {},
   "outputs": [],
   "source": [
    "def train(train_loader, model, criterion, optimizer, epoch):\n",
    "    \"\"\"\n",
    "    One epoch's training.\n",
    "\n",
    "    :param train_loader: DataLoader for training data\n",
    "    :param model: model\n",
    "    :param criterion: content loss function (Mean Squared-Error loss)\n",
    "    :param optimizer: optimizer\n",
    "    :param epoch: epoch number\n",
    "    \"\"\"\n",
    "    print('Training epoch: {}'.format(epoch))\n",
    "    model.train()  # training mode enables batch normalization\n",
    "\n",
    "    batch_time = AverageMeter()  # forward prop. + back prop. time\n",
    "    data_time = AverageMeter()  # data loading time\n",
    "    losses = AverageMeter()  # loss\n",
    "\n",
    "    start = time.time()\n",
    "\n",
    "    # Batches\n",
    "    for i, (lr_imgs, hr_imgs) in enumerate(train_loader):\n",
    "        data_time.update(time.time() - start)\n",
    "\n",
    "        # Move to default device\n",
    "        lr_imgs = lr_imgs.to(device, non_blocking=True)  # (batch_size (N), 3, 24, 24), imagenet-normed\n",
    "        hr_imgs = hr_imgs.to(device, non_blocking=True)  # (batch_size (N), 3, 96, 96), in [-1, 1]\n",
    "\n",
    "        # Forward prop.\n",
    "        sr_imgs = model(lr_imgs)  # (N, 3, 96, 96), in [-1, 1]\n",
    "\n",
    "        # Loss\n",
    "        loss = criterion(sr_imgs, hr_imgs)  # scalar\n",
    "\n",
    "        # Backward prop.\n",
    "        optimizer.zero_grad()\n",
    "        loss.backward()\n",
    "\n",
    "        # Clip gradients, if necessary\n",
    "        if grad_clip is not None:\n",
    "            clip_gradient(optimizer, grad_clip)\n",
    "\n",
    "        # Update model\n",
    "        optimizer.step()\n",
    "\n",
    "        # Keep track of loss\n",
    "        losses.update(loss.item(), lr_imgs.size(0))\n",
    "\n",
    "        # Keep track of batch time\n",
    "        batch_time.update(time.time() - start)\n",
    "\n",
    "        # Reset start time\n",
    "        start = time.time()\n",
    "\n",
    "        # Print status\n",
    "        if i % print_freq == 0:\n",
    "            print('Epoch: [{0:3d}][{1:4d}/{2:4d}]  ----  '\n",
    "                    'Batch Time: {batch_time.val:6.3f} ({batch_time.avg:6.3f})  ----  '\n",
    "                    'Data Time: {data_time.val:6.3f} ({data_time.avg:6.3f})  ----  '\n",
    "                    'Loss: {loss.val:7.4f} ({loss.avg:7.4f})'.format(\n",
    "                        epoch, i, len(train_loader),\n",
    "                        batch_time=batch_time,\n",
    "                        data_time=data_time,\n",
    "                        loss=losses\n",
    "                ))\n",
    "        \n",
    "    del lr_imgs, hr_imgs, sr_imgs  # free some memory since their histories may be stored\n",
    "    print()\n"
   ]
  },
  {
   "cell_type": "code",
   "execution_count": 13,
   "metadata": {},
   "outputs": [
    {
     "name": "stdout",
     "output_type": "stream",
     "text": [
      "Loading checkpoint: checkpoints/checkpoint_srresnet_35_.pth.tar\n"
     ]
    }
   ],
   "source": [
    "\"\"\"\n",
    "Training.\n",
    "\"\"\"\n",
    "global start_epoch, epoch, checkpoint\n",
    "\n",
    "checkpoint = \"checkpoints/checkpoint_srresnet_35_.pth.tar\"\n",
    "\n",
    "# Initialize model or load checkpoint\n",
    "if checkpoint is None:\n",
    "    print('Initializing model...')\n",
    "    model = SRResNet(large_kernel_size=large_kernel_size, small_kernel_size=small_kernel_size,\n",
    "                        n_channels=n_channels, n_blocks=n_blocks, scaling_factor=scaling_factor)\n",
    "    # Initialize the optimizer\n",
    "    optimizer = torch.optim.Adam(params=filter(lambda p: p.requires_grad, model.parameters()),\n",
    "                                    lr=lr)\n",
    "\n",
    "else:\n",
    "    print(f'Loading checkpoint: {checkpoint}')\n",
    "    checkpoint = torch.load(checkpoint)\n",
    "    start_epoch = checkpoint['epoch'] + 1\n",
    "    model = checkpoint['model']\n",
    "    optimizer = checkpoint['optimizer']\n",
    "\n",
    "# Move to default device\n",
    "model = model.to(device)\n",
    "criterion = nn.MSELoss().to(device)\n",
    "\n",
    "# Custom dataloaders\n",
    "train_dataset = SRDataset(data_folder,\n",
    "                            split='train',\n",
    "                            crop_size=crop_size,\n",
    "                            scaling_factor=scaling_factor,\n",
    "                            lr_img_type='imagenet-norm',\n",
    "                            hr_img_type='[-1, 1]')\n",
    "train_loader = torch.utils.data.DataLoader(train_dataset, batch_size=batch_size, shuffle=True, num_workers=workers,\n",
    "                                            pin_memory=True)  # note that we're passing the collate function here\n",
    "\n",
    "# Total number of epochs to train for\n",
    "epochs = int(iterations // len(train_loader) + 1)"
   ]
  },
  {
   "cell_type": "code",
   "execution_count": 14,
   "metadata": {},
   "outputs": [],
   "source": [
    "torch.cuda.empty_cache()"
   ]
  },
  {
   "cell_type": "code",
   "execution_count": 15,
   "metadata": {},
   "outputs": [
    {
     "name": "stdout",
     "output_type": "stream",
     "text": [
      "Training epoch: 36\n",
      "Epoch: [ 36][   0/ 863]  ----  Batch Time: 28.619 (28.619)  ----  Data Time: 28.437 (28.437)  ----  Loss:  0.0131 ( 0.0131)\n",
      "Epoch: [ 36][ 100/ 863]  ----  Batch Time:  0.122 ( 0.405)  ----  Data Time:  0.000 ( 0.282)  ----  Loss:  0.0159 ( 0.0160)\n",
      "Epoch: [ 36][ 200/ 863]  ----  Batch Time:  0.122 ( 0.264)  ----  Data Time:  0.000 ( 0.142)  ----  Loss:  0.0148 ( 0.0161)\n",
      "Epoch: [ 36][ 300/ 863]  ----  Batch Time:  0.123 ( 0.217)  ----  Data Time:  0.001 ( 0.095)  ----  Loss:  0.0177 ( 0.0160)\n",
      "Epoch: [ 36][ 400/ 863]  ----  Batch Time:  0.130 ( 0.194)  ----  Data Time:  0.001 ( 0.071)  ----  Loss:  0.0165 ( 0.0160)\n",
      "Epoch: [ 36][ 500/ 863]  ----  Batch Time:  0.120 ( 0.179)  ----  Data Time:  0.000 ( 0.057)  ----  Loss:  0.0126 ( 0.0160)\n",
      "Epoch: [ 36][ 600/ 863]  ----  Batch Time:  0.122 ( 0.170)  ----  Data Time:  0.000 ( 0.048)  ----  Loss:  0.0162 ( 0.0161)\n",
      "Epoch: [ 36][ 700/ 863]  ----  Batch Time:  0.121 ( 0.163)  ----  Data Time:  0.001 ( 0.041)  ----  Loss:  0.0195 ( 0.0161)\n",
      "Epoch: [ 36][ 800/ 863]  ----  Batch Time:  0.122 ( 0.158)  ----  Data Time:  0.000 ( 0.036)  ----  Loss:  0.0139 ( 0.0160)\n",
      "\n",
      "Training epoch: 37\n",
      "Epoch: [ 37][   0/ 863]  ----  Batch Time: 29.237 (29.237)  ----  Data Time: 29.099 (29.099)  ----  Loss:  0.0151 ( 0.0151)\n",
      "Epoch: [ 37][ 100/ 863]  ----  Batch Time:  0.122 ( 0.411)  ----  Data Time:  0.000 ( 0.288)  ----  Loss:  0.0195 ( 0.0160)\n",
      "Epoch: [ 37][ 200/ 863]  ----  Batch Time:  0.125 ( 0.268)  ----  Data Time:  0.000 ( 0.145)  ----  Loss:  0.0163 ( 0.0161)\n",
      "Epoch: [ 37][ 300/ 863]  ----  Batch Time:  0.121 ( 0.219)  ----  Data Time:  0.000 ( 0.097)  ----  Loss:  0.0142 ( 0.0160)\n",
      "Epoch: [ 37][ 400/ 863]  ----  Batch Time:  0.125 ( 0.196)  ----  Data Time:  0.000 ( 0.073)  ----  Loss:  0.0171 ( 0.0160)\n",
      "Epoch: [ 37][ 500/ 863]  ----  Batch Time:  0.123 ( 0.181)  ----  Data Time:  0.000 ( 0.058)  ----  Loss:  0.0144 ( 0.0160)\n",
      "Epoch: [ 37][ 600/ 863]  ----  Batch Time:  0.123 ( 0.172)  ----  Data Time:  0.000 ( 0.049)  ----  Loss:  0.0149 ( 0.0159)\n",
      "Epoch: [ 37][ 700/ 863]  ----  Batch Time:  0.124 ( 0.165)  ----  Data Time:  0.000 ( 0.042)  ----  Loss:  0.0168 ( 0.0159)\n",
      "Epoch: [ 37][ 800/ 863]  ----  Batch Time:  0.123 ( 0.160)  ----  Data Time:  0.001 ( 0.037)  ----  Loss:  0.0160 ( 0.0159)\n",
      "\n",
      "Training epoch: 38\n",
      "Epoch: [ 38][   0/ 863]  ----  Batch Time: 28.680 (28.680)  ----  Data Time: 28.543 (28.543)  ----  Loss:  0.0140 ( 0.0140)\n",
      "Epoch: [ 38][ 100/ 863]  ----  Batch Time:  0.123 ( 0.406)  ----  Data Time:  0.001 ( 0.283)  ----  Loss:  0.0150 ( 0.0157)\n",
      "Epoch: [ 38][ 200/ 863]  ----  Batch Time:  0.121 ( 0.266)  ----  Data Time:  0.000 ( 0.142)  ----  Loss:  0.0183 ( 0.0160)\n",
      "Epoch: [ 38][ 300/ 863]  ----  Batch Time:  0.124 ( 0.219)  ----  Data Time:  0.000 ( 0.095)  ----  Loss:  0.0201 ( 0.0160)\n",
      "Epoch: [ 38][ 400/ 863]  ----  Batch Time:  0.123 ( 0.195)  ----  Data Time:  0.001 ( 0.072)  ----  Loss:  0.0118 ( 0.0160)\n",
      "Epoch: [ 38][ 500/ 863]  ----  Batch Time:  0.124 ( 0.181)  ----  Data Time:  0.000 ( 0.057)  ----  Loss:  0.0156 ( 0.0160)\n",
      "Epoch: [ 38][ 600/ 863]  ----  Batch Time:  0.124 ( 0.171)  ----  Data Time:  0.000 ( 0.048)  ----  Loss:  0.0144 ( 0.0160)\n",
      "Epoch: [ 38][ 700/ 863]  ----  Batch Time:  0.124 ( 0.165)  ----  Data Time:  0.000 ( 0.041)  ----  Loss:  0.0191 ( 0.0160)\n",
      "Epoch: [ 38][ 800/ 863]  ----  Batch Time:  0.125 ( 0.160)  ----  Data Time:  0.000 ( 0.036)  ----  Loss:  0.0163 ( 0.0160)\n"
     ]
    },
    {
     "ename": "KeyboardInterrupt",
     "evalue": "",
     "output_type": "error",
     "traceback": [
      "\u001b[1;31m---------------------------------------------------------------------------\u001b[0m",
      "\u001b[1;31mKeyboardInterrupt\u001b[0m                         Traceback (most recent call last)",
      "Cell \u001b[1;32mIn[15], line 4\u001b[0m\n\u001b[0;32m      1\u001b[0m \u001b[38;5;66;03m# Epochs\u001b[39;00m\n\u001b[0;32m      2\u001b[0m \u001b[38;5;28;01mfor\u001b[39;00m epoch \u001b[38;5;129;01min\u001b[39;00m \u001b[38;5;28mrange\u001b[39m(start_epoch, epochs):\n\u001b[0;32m      3\u001b[0m     \u001b[38;5;66;03m# One epoch's training\u001b[39;00m\n\u001b[1;32m----> 4\u001b[0m     \u001b[43mtrain\u001b[49m\u001b[43m(\u001b[49m\u001b[43mtrain_loader\u001b[49m\u001b[38;5;241;43m=\u001b[39;49m\u001b[43mtrain_loader\u001b[49m\u001b[43m,\u001b[49m\n\u001b[0;32m      5\u001b[0m \u001b[43m            \u001b[49m\u001b[43mmodel\u001b[49m\u001b[38;5;241;43m=\u001b[39;49m\u001b[43mmodel\u001b[49m\u001b[43m,\u001b[49m\n\u001b[0;32m      6\u001b[0m \u001b[43m            \u001b[49m\u001b[43mcriterion\u001b[49m\u001b[38;5;241;43m=\u001b[39;49m\u001b[43mcriterion\u001b[49m\u001b[43m,\u001b[49m\n\u001b[0;32m      7\u001b[0m \u001b[43m            \u001b[49m\u001b[43moptimizer\u001b[49m\u001b[38;5;241;43m=\u001b[39;49m\u001b[43moptimizer\u001b[49m\u001b[43m,\u001b[49m\n\u001b[0;32m      8\u001b[0m \u001b[43m            \u001b[49m\u001b[43mepoch\u001b[49m\u001b[38;5;241;43m=\u001b[39;49m\u001b[43mepoch\u001b[49m\u001b[43m)\u001b[49m\n\u001b[0;32m     10\u001b[0m     \u001b[38;5;66;03m# Save checkpoint\u001b[39;00m\n\u001b[0;32m     11\u001b[0m     torch\u001b[38;5;241m.\u001b[39msave({\u001b[38;5;124m'\u001b[39m\u001b[38;5;124mepoch\u001b[39m\u001b[38;5;124m'\u001b[39m: epoch,\n\u001b[0;32m     12\u001b[0m                 \u001b[38;5;124m'\u001b[39m\u001b[38;5;124mmodel\u001b[39m\u001b[38;5;124m'\u001b[39m: model,\n\u001b[0;32m     13\u001b[0m                 \u001b[38;5;124m'\u001b[39m\u001b[38;5;124moptimizer\u001b[39m\u001b[38;5;124m'\u001b[39m: optimizer},\n\u001b[0;32m     14\u001b[0m                 \u001b[38;5;124mf\u001b[39m\u001b[38;5;124m'\u001b[39m\u001b[38;5;124mcheckpoints/checkpoint_srresnet_\u001b[39m\u001b[38;5;132;01m{\u001b[39;00mepoch\u001b[38;5;132;01m}\u001b[39;00m\u001b[38;5;124m_.pth.tar\u001b[39m\u001b[38;5;124m'\u001b[39m)\n",
      "Cell \u001b[1;32mIn[12], line 46\u001b[0m, in \u001b[0;36mtrain\u001b[1;34m(train_loader, model, criterion, optimizer, epoch)\u001b[0m\n\u001b[0;32m     43\u001b[0m optimizer\u001b[38;5;241m.\u001b[39mstep()\n\u001b[0;32m     45\u001b[0m \u001b[38;5;66;03m# Keep track of loss\u001b[39;00m\n\u001b[1;32m---> 46\u001b[0m losses\u001b[38;5;241m.\u001b[39mupdate(\u001b[43mloss\u001b[49m\u001b[38;5;241;43m.\u001b[39;49m\u001b[43mitem\u001b[49m\u001b[43m(\u001b[49m\u001b[43m)\u001b[49m, lr_imgs\u001b[38;5;241m.\u001b[39msize(\u001b[38;5;241m0\u001b[39m))\n\u001b[0;32m     48\u001b[0m \u001b[38;5;66;03m# Keep track of batch time\u001b[39;00m\n\u001b[0;32m     49\u001b[0m batch_time\u001b[38;5;241m.\u001b[39mupdate(time\u001b[38;5;241m.\u001b[39mtime() \u001b[38;5;241m-\u001b[39m start)\n",
      "\u001b[1;31mKeyboardInterrupt\u001b[0m: "
     ]
    }
   ],
   "source": [
    "# Epochs\n",
    "for epoch in range(start_epoch, epochs):\n",
    "    # One epoch's training\n",
    "    train(train_loader=train_loader,\n",
    "            model=model,\n",
    "            criterion=criterion,\n",
    "            optimizer=optimizer,\n",
    "            epoch=epoch)\n",
    "\n",
    "    # Save checkpoint\n",
    "    torch.save({'epoch': epoch,\n",
    "                'model': model,\n",
    "                'optimizer': optimizer},\n",
    "                f'checkpoints/checkpoint_srresnet_{epoch}_.pth.tar')\n"
   ]
  },
  {
   "cell_type": "code",
   "execution_count": null,
   "metadata": {},
   "outputs": [],
   "source": []
  },
  {
   "cell_type": "code",
   "execution_count": null,
   "metadata": {},
   "outputs": [],
   "source": []
  },
  {
   "cell_type": "code",
   "execution_count": null,
   "metadata": {},
   "outputs": [],
   "source": []
  }
 ],
 "metadata": {
  "kernelspec": {
   "display_name": "Python 3",
   "language": "python",
   "name": "python3"
  },
  "language_info": {
   "codemirror_mode": {
    "name": "ipython",
    "version": 3
   },
   "file_extension": ".py",
   "mimetype": "text/x-python",
   "name": "python",
   "nbconvert_exporter": "python",
   "pygments_lexer": "ipython3",
   "version": "3.10.14"
  }
 },
 "nbformat": 4,
 "nbformat_minor": 2
}
