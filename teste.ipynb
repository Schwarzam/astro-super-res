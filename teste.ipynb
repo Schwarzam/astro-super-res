{
 "cells": [
  {
   "cell_type": "code",
   "execution_count": 1,
   "metadata": {},
   "outputs": [],
   "source": [
    "%load_ext autoreload\n",
    "%autoreload 2"
   ]
  },
  {
   "cell_type": "code",
   "execution_count": 2,
   "metadata": {},
   "outputs": [],
   "source": [
    "# import utils as u\n",
    "#u.create_data_lists([\"C:\\\\Users\\\\gusta\\\\Downloads\\\\train2014\\\\train2014\"], [\"C:\\\\Users\\\\gusta\\\\Downloads\\\\val2014\\\\val2014\"], 100, \"imgs_list\")"
   ]
  },
  {
   "cell_type": "code",
   "execution_count": 3,
   "metadata": {},
   "outputs": [],
   "source": [
    "import time\n",
    "import torch.backends.cudnn as cudnn\n",
    "import torch\n",
    "from torch import nn\n",
    "from models import SRResNet\n",
    "from datasets import SRDataset\n",
    "from utils import *"
   ]
  },
  {
   "cell_type": "code",
   "execution_count": 4,
   "metadata": {},
   "outputs": [],
   "source": [
    "# Data parameters\n",
    "data_folder = './imgs_list/'  # folder with JSON data files\n",
    "crop_size = 96  # crop size of target HR images\n",
    "scaling_factor = 4  # the scaling factor for the generator; the input LR images will be downsampled from the target HR images by this factor\n",
    "\n",
    "# Model parameters\n",
    "large_kernel_size = 9  # kernel size of the first and last convolutions which transform the inputs and outputs\n",
    "small_kernel_size = 3  # kernel size of all convolutions in-between, i.e. those in the residual and subpixel convolutional blocks\n",
    "n_channels = 64  # number of channels in-between, i.e. the input and output channels for the residual and subpixel convolutional blocks\n",
    "n_blocks = 16  # number of residual blocks\n",
    "\n",
    "# Learning parameters\n",
    "checkpoint = None  # path to model checkpoint, None if none\n",
    "batch_size = 96  # batch size\n",
    "start_epoch = 0  # start at this epoch\n",
    "iterations = 1e6  # number of training iterations\n",
    "workers = 8  # number of workers for loading data in the DataLoader\n",
    "print_freq = 100  # print training status once every __ batches\n",
    "lr = 1e-4  # learning rate\n",
    "grad_clip = None  # clip if gradients are exploding\n",
    "\n",
    "device = torch.device(\"cuda\" if torch.cuda.is_available() else \"cpu\")\n",
    "\n",
    "cudnn.benchmark = True"
   ]
  },
  {
   "cell_type": "code",
   "execution_count": 5,
   "metadata": {},
   "outputs": [
    {
     "data": {
      "text/plain": [
       "device(type='cuda')"
      ]
     },
     "execution_count": 5,
     "metadata": {},
     "output_type": "execute_result"
    }
   ],
   "source": [
    "device"
   ]
  },
  {
   "cell_type": "code",
   "execution_count": 6,
   "metadata": {},
   "outputs": [],
   "source": [
    "def train(train_loader, model, criterion, optimizer, epoch):\n",
    "    \"\"\"\n",
    "    One epoch's training.\n",
    "\n",
    "    :param train_loader: DataLoader for training data\n",
    "    :param model: model\n",
    "    :param criterion: content loss function (Mean Squared-Error loss)\n",
    "    :param optimizer: optimizer\n",
    "    :param epoch: epoch number\n",
    "    \"\"\"\n",
    "    print('Training epoch: {}'.format(epoch))\n",
    "    model.train()  # training mode enables batch normalization\n",
    "\n",
    "    batch_time = AverageMeter()  # forward prop. + back prop. time\n",
    "    data_time = AverageMeter()  # data loading time\n",
    "    losses = AverageMeter()  # loss\n",
    "\n",
    "    start = time.time()\n",
    "\n",
    "    # Batches\n",
    "    for i, (lr_imgs, hr_imgs) in enumerate(train_loader):\n",
    "        data_time.update(time.time() - start)\n",
    "\n",
    "        # Move to default device\n",
    "        lr_imgs = lr_imgs.to(device, non_blocking=True)  # (batch_size (N), 3, 24, 24), imagenet-normed\n",
    "        hr_imgs = hr_imgs.to(device, non_blocking=True)  # (batch_size (N), 3, 96, 96), in [-1, 1]\n",
    "\n",
    "        # Forward prop.\n",
    "        sr_imgs = model(lr_imgs)  # (N, 3, 96, 96), in [-1, 1]\n",
    "\n",
    "        # Loss\n",
    "        loss = criterion(sr_imgs, hr_imgs)  # scalar\n",
    "\n",
    "        # Backward prop.\n",
    "        optimizer.zero_grad()\n",
    "        loss.backward()\n",
    "\n",
    "        # Clip gradients, if necessary\n",
    "        if grad_clip is not None:\n",
    "            clip_gradient(optimizer, grad_clip)\n",
    "\n",
    "        # Update model\n",
    "        optimizer.step()\n",
    "\n",
    "        # Keep track of loss\n",
    "        losses.update(loss.item(), lr_imgs.size(0))\n",
    "\n",
    "        # Keep track of batch time\n",
    "        batch_time.update(time.time() - start)\n",
    "\n",
    "        # Reset start time\n",
    "        start = time.time()\n",
    "\n",
    "        # Print status\n",
    "        if i % print_freq == 0:\n",
    "            print('Epoch: [{0:3d}][{1:4d}/{2:4d}]  ----  '\n",
    "                    'Batch Time: {batch_time.val:6.3f} ({batch_time.avg:6.3f})  ----  '\n",
    "                    'Data Time: {data_time.val:6.3f} ({data_time.avg:6.3f})  ----  '\n",
    "                    'Loss: {loss.val:7.4f} ({loss.avg:7.4f})'.format(\n",
    "                        epoch, i, len(train_loader),\n",
    "                        batch_time=batch_time,\n",
    "                        data_time=data_time,\n",
    "                        loss=losses\n",
    "                ))\n",
    "        \n",
    "    del lr_imgs, hr_imgs, sr_imgs  # free some memory since their histories may be stored\n",
    "    print()\n"
   ]
  },
  {
   "cell_type": "code",
   "execution_count": 7,
   "metadata": {},
   "outputs": [
    {
     "name": "stdout",
     "output_type": "stream",
     "text": [
      "Initializing model...\n"
     ]
    }
   ],
   "source": [
    "\"\"\"\n",
    "Training.\n",
    "\"\"\"\n",
    "global start_epoch, epoch, checkpoint\n",
    "\n",
    "#checkpoint = \"checkpoints/checkpoint_srresnet_0_.pth.tar\"\n",
    "\n",
    "# Initialize model or load checkpoint\n",
    "if checkpoint is None:\n",
    "    print('Initializing model...')\n",
    "    model = SRResNet(large_kernel_size=large_kernel_size, small_kernel_size=small_kernel_size,\n",
    "                        n_channels=n_channels, n_blocks=n_blocks, scaling_factor=scaling_factor)\n",
    "    # Initialize the optimizer\n",
    "    optimizer = torch.optim.Adam(params=filter(lambda p: p.requires_grad, model.parameters()),\n",
    "                                    lr=lr)\n",
    "\n",
    "else:\n",
    "    print(f'Loading checkpoint: {checkpoint}')\n",
    "    checkpoint = torch.load(checkpoint)\n",
    "    start_epoch = checkpoint['epoch'] + 1\n",
    "    model = checkpoint['model']\n",
    "    optimizer = checkpoint['optimizer']\n",
    "\n",
    "# Move to default device\n",
    "model = model.to(device)\n",
    "criterion = nn.MSELoss().to(device)\n",
    "\n",
    "# Custom dataloaders\n",
    "train_dataset = SRDataset(data_folder,\n",
    "                            split='train',\n",
    "                            crop_size=crop_size,\n",
    "                            scaling_factor=scaling_factor,\n",
    "                            lr_img_type='imagenet-norm',\n",
    "                            hr_img_type='[-1, 1]')\n",
    "train_loader = torch.utils.data.DataLoader(train_dataset, batch_size=batch_size, shuffle=True, num_workers=workers,\n",
    "                                            pin_memory=True)  # note that we're passing the collate function here\n",
    "\n",
    "# Total number of epochs to train for\n",
    "epochs = int(iterations // len(train_loader) + 1)"
   ]
  },
  {
   "cell_type": "code",
   "execution_count": 8,
   "metadata": {},
   "outputs": [],
   "source": [
    "torch.cuda.empty_cache()"
   ]
  },
  {
   "cell_type": "code",
   "execution_count": 9,
   "metadata": {},
   "outputs": [
    {
     "name": "stdout",
     "output_type": "stream",
     "text": [
      "Training epoch: 0\n",
      "Epoch: [  0][   0/ 863]  ----  Batch Time: 31.994 (31.994)  ----  Data Time: 29.117 (29.117)  ----  Loss:  0.3252 ( 0.3252)\n"
     ]
    }
   ],
   "source": [
    "# Epochs\n",
    "for epoch in range(start_epoch, epochs):\n",
    "    # One epoch's training\n",
    "    train(train_loader=train_loader,\n",
    "            model=model,\n",
    "            criterion=criterion,\n",
    "            optimizer=optimizer,\n",
    "            epoch=epoch)\n",
    "\n",
    "    # Save checkpoint\n",
    "    torch.save({'epoch': epoch,\n",
    "                'model': model,\n",
    "                'optimizer': optimizer},\n",
    "                f'checkpoints/checkpoint_srresnet_{epoch}_.pth.tar')\n"
   ]
  },
  {
   "cell_type": "code",
   "execution_count": null,
   "metadata": {},
   "outputs": [],
   "source": []
  },
  {
   "cell_type": "code",
   "execution_count": null,
   "metadata": {},
   "outputs": [],
   "source": []
  },
  {
   "cell_type": "code",
   "execution_count": null,
   "metadata": {},
   "outputs": [],
   "source": []
  }
 ],
 "metadata": {
  "kernelspec": {
   "display_name": "Python 3",
   "language": "python",
   "name": "python3"
  },
  "language_info": {
   "codemirror_mode": {
    "name": "ipython",
    "version": 3
   },
   "file_extension": ".py",
   "mimetype": "text/x-python",
   "name": "python",
   "nbconvert_exporter": "python",
   "pygments_lexer": "ipython3",
   "version": "3.10.14"
  }
 },
 "nbformat": 4,
 "nbformat_minor": 2
}
