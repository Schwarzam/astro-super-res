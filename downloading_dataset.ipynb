{
  "cells": [
    {
      "cell_type": "markdown",
      "metadata": {
        "colab_type": "text",
        "id": "view-in-github"
      },
      "source": [
        "<a href=\"https://colab.research.google.com/github/Schwarzam/astro-super-res/blob/main/downloading_dataset.ipynb\" target=\"_parent\"><img src=\"https://colab.research.google.com/assets/colab-badge.svg\" alt=\"Open In Colab\"/></a>"
      ]
    },
    {
      "cell_type": "code",
      "execution_count": 31,
      "metadata": {
        "colab": {
          "base_uri": "https://localhost:8080/"
        },
        "id": "VNgPCvV6eGM1",
        "outputId": "123f2bf2-3d7a-4377-9ff1-66edd4a5f799"
      },
      "outputs": [
        {
          "name": "stdout",
          "output_type": "stream",
          "text": [
            "Drive already mounted at /content/drive; to attempt to forcibly remount, call drive.mount(\"/content/drive\", force_remount=True).\n"
          ]
        }
      ],
      "source": [
        "from google.colab import drive\n",
        "drive.mount('/content/drive')"
      ]
    },
    {
      "cell_type": "code",
      "execution_count": 32,
      "metadata": {
        "id": "kA7Zy0KYei6Z"
      },
      "outputs": [],
      "source": [
        "import os"
      ]
    },
    {
      "cell_type": "code",
      "execution_count": 32,
      "metadata": {
        "id": "Vfep0F1ue3Pf"
      },
      "outputs": [],
      "source": []
    },
    {
      "cell_type": "code",
      "execution_count": 19,
      "metadata": {
        "colab": {
          "base_uri": "https://localhost:8080/"
        },
        "id": "whgvEZS9fBlf",
        "outputId": "ca831865-bcf0-4d16-efae-21b9fe70ceaa"
      },
      "outputs": [
        {
          "name": "stdout",
          "output_type": "stream",
          "text": [
            "--2024-04-30 19:42:56--  http://images.cocodataset.org/zips/train2014.zip\n",
            "Resolving images.cocodataset.org (images.cocodataset.org)... 3.5.29.78, 16.182.34.137, 52.217.226.169, ...\n",
            "Connecting to images.cocodataset.org (images.cocodataset.org)|3.5.29.78|:80... connected.\n",
            "HTTP request sent, awaiting response... 200 OK\n",
            "Length: 13510573713 (13G) [application/zip]\n",
            "Saving to: ‘/content/drive/MyDrive/astro/superres/train2014.zip.2’\n",
            "\n",
            "train2014.zip.2     100%[===================>]  12.58G  55.4MB/s    in 4m 34s  \n",
            "\n",
            "2024-04-30 19:47:30 (47.1 MB/s) - ‘/content/drive/MyDrive/astro/superres/train2014.zip.2’ saved [13510573713/13510573713]\n",
            "\n"
          ]
        }
      ],
      "source": [
        "!wget http://images.cocodataset.org/zips/train2014.zip -P /content/drive/MyDrive/astro/superres"
      ]
    },
    {
      "cell_type": "code",
      "execution_count": 20,
      "metadata": {
        "colab": {
          "base_uri": "https://localhost:8080/"
        },
        "id": "XW8CPMoJfI0w",
        "outputId": "03fac2b5-e686-454e-e367-f49e01e8b588"
      },
      "outputs": [
        {
          "name": "stdout",
          "output_type": "stream",
          "text": [
            "--2024-04-30 19:47:31--  http://images.cocodataset.org/zips/val2014.zip\n",
            "Resolving images.cocodataset.org (images.cocodataset.org)... 52.217.197.233, 52.216.61.249, 52.216.56.209, ...\n",
            "Connecting to images.cocodataset.org (images.cocodataset.org)|52.217.197.233|:80... connected.\n",
            "HTTP request sent, awaiting response... 200 OK\n",
            "Length: 6645013297 (6.2G) [application/zip]\n",
            "Saving to: ‘/content/drive/MyDrive/astro/superres/val2014.zip’\n",
            "\n",
            "val2014.zip         100%[===================>]   6.19G  47.8MB/s    in 3m 4s   \n",
            "\n",
            "2024-04-30 19:50:35 (34.5 MB/s) - ‘/content/drive/MyDrive/astro/superres/val2014.zip’ saved [6645013297/6645013297]\n",
            "\n"
          ]
        }
      ],
      "source": [
        "!wget http://images.cocodataset.org/zips/val2014.zip -P /content/drive/MyDrive/astro/superres"
      ]
    },
    {
      "cell_type": "code",
      "execution_count": 21,
      "metadata": {
        "id": "QNm8U9cdgJ1v"
      },
      "outputs": [],
      "source": [
        "## Other downloads here\n",
        "\n",
        "# https://github.com/XPixelGroup/BasicSR/blob/master/docs/DatasetPreparation.md#common-image-sr-datasets"
      ]
    },
    {
      "cell_type": "code",
      "execution_count": 22,
      "metadata": {
        "colab": {
          "base_uri": "https://localhost:8080/"
        },
        "id": "tUK45y1ogOOl",
        "outputId": "9029cfcb-9ce5-4a7a-ce5f-9145da4e7d74"
      },
      "outputs": [
        {
          "name": "stdout",
          "output_type": "stream",
          "text": [
            "Drive already mounted at /content/drive; to attempt to forcibly remount, call drive.mount(\"/content/drive\", force_remount=True).\n",
            "Unzipping completed!\n"
          ]
        }
      ],
      "source": [
        "import zipfile\n",
        "import os\n",
        "\n",
        "# Change this to the path where your zip files are located\n",
        "drive_folder = \"/content/drive/MyDrive/astro/superres\"\n",
        "\n",
        "# Navigate to the directory with zip files\n",
        "os.chdir(drive_folder)\n",
        "zip_files = [f for f in os.listdir() if f.endswith('.zip')]\n",
        "\n",
        "for zip_file in zip_files:\n",
        "    folder_name = zip_file[:-4]\n",
        "    os.makedirs(folder_name, exist_ok=True)\n",
        "\n",
        "    with zipfile.ZipFile(zip_file, 'r') as zip_ref:\n",
        "        zip_ref.extractall(folder_name)\n",
        "\n",
        "\n",
        "print(\"Unzipping completed!\")"
      ]
    },
    {
      "cell_type": "code",
      "execution_count": 35,
      "metadata": {
        "colab": {
          "base_uri": "https://localhost:8080/"
        },
        "id": "mrtJxqDKhqth",
        "outputId": "acd784e7-d491-442a-8fd5-4647580c49c8"
      },
      "outputs": [
        {
          "name": "stdout",
          "output_type": "stream",
          "text": [
            "BSDS100      Set14\tSet5\t  train2014\t val2014\n",
            "BSDS100.zip  Set14.zip\tSet5.zip  train2014.zip  val2014.zip\n"
          ]
        }
      ],
      "source": [
        "!ls /content/drive/MyDrive/astro/superres/"
      ]
    },
    {
      "cell_type": "code",
      "execution_count": 36,
      "metadata": {
        "colab": {
          "base_uri": "https://localhost:8080/"
        },
        "id": "5ixwQZt8skEG",
        "outputId": "0d959341-76f4-4127-de71-ebfdfe3cf578"
      },
      "outputs": [
        {
          "name": "stdout",
          "output_type": "stream",
          "text": [
            "82783\n"
          ]
        }
      ],
      "source": [
        "!ls /content/drive/MyDrive/astro/superres/train2014/train2014 | wc -l"
      ]
    },
    {
      "cell_type": "code",
      "execution_count": null,
      "metadata": {
        "id": "aDO_NMN9wcyx"
      },
      "outputs": [],
      "source": []
    }
  ],
  "metadata": {
    "colab": {
      "authorship_tag": "ABX9TyPlugM8SHOL4jm5/htqpCJm",
      "include_colab_link": true,
      "provenance": []
    },
    "kernelspec": {
      "display_name": "Python 3",
      "name": "python3"
    },
    "language_info": {
      "name": "python",
      "version": "3.11.4"
    }
  },
  "nbformat": 4,
  "nbformat_minor": 0
}
