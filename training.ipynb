{
 "cells": [
  {
   "cell_type": "code",
   "execution_count": 1,
   "metadata": {},
   "outputs": [],
   "source": [
    "%load_ext autoreload\n",
    "%autoreload 2"
   ]
  },
  {
   "cell_type": "code",
   "execution_count": null,
   "metadata": {},
   "outputs": [],
   "source": [
    "# import utils as u\n",
    "#u.create_data_lists([\"C:\\\\Users\\\\gusta\\\\Downloads\\\\train2014\\\\train2014\"], [\"C:\\\\Users\\\\gusta\\\\Downloads\\\\val2014\\\\val2014\"], 100, \"imgs_list\")"
   ]
  },
  {
   "cell_type": "code",
   "execution_count": 3,
   "metadata": {},
   "outputs": [
    {
     "name": "stdout",
     "output_type": "stream",
     "text": [
      "\n",
      "Creating data lists... this may take some time.\n",
      "\n",
      "There are 170 images in the training data.\n",
      "\n",
      "There are 34 images in the H:\\ImagensIA\\splus\\test test data.\n",
      "\n",
      "JSONS containing lists of Train and Test images have been saved to imgs_list\n",
      "\n"
     ]
    }
   ],
   "source": [
    "# Testing training with splus images\n",
    "#import utils as u\n",
    "#u.create_data_lists([\"H:\\\\ImagensIA\\\\splus\\\\train\"], [\"H:\\\\ImagensIA\\\\splus\\\\test\"], 100, \"imgs_list\")"
   ]
  },
  {
   "cell_type": "code",
   "execution_count": 1,
   "metadata": {},
   "outputs": [],
   "source": [
    "import time\n",
    "import torch.backends.cudnn as cudnn\n",
    "import torch\n",
    "from torch import nn\n",
    "from models import SRResNet\n",
    "from datasets import SRDataset\n",
    "from utils import *"
   ]
  },
  {
   "cell_type": "code",
   "execution_count": 2,
   "metadata": {},
   "outputs": [],
   "source": [
    "# Data parameters\n",
    "data_folder = './imgs_list/'  # folder with JSON data files\n",
    "crop_size = 96  # crop size of target HR images\n",
    "scaling_factor = 4  # the scaling factor for the generator; the input LR images will be downsampled from the target HR images by this factor\n",
    "\n",
    "# Model parameters\n",
    "large_kernel_size = 9  # kernel size of the first and last convolutions which transform the inputs and outputs\n",
    "small_kernel_size = 3  # kernel size of all convolutions in-between, i.e. those in the residual and subpixel convolutional blocks\n",
    "n_channels = 64  # number of channels in-between, i.e. the input and output channels for the residual and subpixel convolutional blocks\n",
    "n_blocks = 16  # number of residual blocks\n",
    "\n",
    "# Learning parameters\n",
    "checkpoint = None  # path to model checkpoint, None if none\n",
    "batch_size = 96  # batch size\n",
    "start_epoch = 0  # start at this epoch\n",
    "iterations = 1e6  # number of training iterations\n",
    "workers = 8  # number of workers for loading data in the DataLoader\n",
    "print_freq = 100  # print training status once every __ batches\n",
    "lr = (1e-4)/2  # learning rate\n",
    "grad_clip = None  # clip if gradients are exploding\n",
    "\n",
    "device = torch.device(\"cuda\" if torch.cuda.is_available() else \"cpu\")\n",
    "\n",
    "cudnn.benchmark = True"
   ]
  },
  {
   "cell_type": "code",
   "execution_count": 3,
   "metadata": {},
   "outputs": [
    {
     "data": {
      "text/plain": [
       "device(type='cuda')"
      ]
     },
     "execution_count": 3,
     "metadata": {},
     "output_type": "execute_result"
    }
   ],
   "source": [
    "device"
   ]
  },
  {
   "cell_type": "code",
   "execution_count": 4,
   "metadata": {},
   "outputs": [],
   "source": [
    "def train(train_loader, model, criterion, optimizer, epoch):\n",
    "    \"\"\"\n",
    "    One epoch's training.\n",
    "\n",
    "    :param train_loader: DataLoader for training data\n",
    "    :param model: model\n",
    "    :param criterion: content loss function (Mean Squared-Error loss)\n",
    "    :param optimizer: optimizer\n",
    "    :param epoch: epoch number\n",
    "    \"\"\"\n",
    "    print('Training epoch: {}'.format(epoch))\n",
    "    model.train()  # training mode enables batch normalization\n",
    "\n",
    "    batch_time = AverageMeter()  # forward prop. + back prop. time\n",
    "    data_time = AverageMeter()  # data loading time\n",
    "    losses = AverageMeter()  # loss\n",
    "\n",
    "    start = time.time()\n",
    "\n",
    "    # Batches\n",
    "    for i, (lr_imgs, hr_imgs) in enumerate(train_loader):\n",
    "        data_time.update(time.time() - start)\n",
    "\n",
    "        # Move to default device\n",
    "        lr_imgs = lr_imgs.to(device, non_blocking=True)  # (batch_size (N), 3, 24, 24), imagenet-normed\n",
    "        hr_imgs = hr_imgs.to(device, non_blocking=True)  # (batch_size (N), 3, 96, 96), in [-1, 1]\n",
    "\n",
    "        # Forward prop.\n",
    "        sr_imgs = model(lr_imgs)  # (N, 3, 96, 96), in [-1, 1]\n",
    "\n",
    "        # Loss\n",
    "        loss = criterion(sr_imgs, hr_imgs)  # scalar\n",
    "\n",
    "        # Backward prop.\n",
    "        optimizer.zero_grad()\n",
    "        loss.backward()\n",
    "\n",
    "        # Clip gradients, if necessary\n",
    "        if grad_clip is not None:\n",
    "            clip_gradient(optimizer, grad_clip)\n",
    "\n",
    "        # Update model\n",
    "        optimizer.step()\n",
    "\n",
    "        # Keep track of loss\n",
    "        losses.update(loss.item(), lr_imgs.size(0))\n",
    "\n",
    "        # Keep track of batch time\n",
    "        batch_time.update(time.time() - start)\n",
    "\n",
    "        # Reset start time\n",
    "        start = time.time()\n",
    "\n",
    "        # Print status\n",
    "        if i % print_freq == 0:\n",
    "            print('Epoch: [{0:3d}][{1:4d}/{2:4d}]  ----  '\n",
    "                    'Batch Time: {batch_time.val:6.3f} ({batch_time.avg:6.3f})  ----  '\n",
    "                    'Data Time: {data_time.val:6.3f} ({data_time.avg:6.3f})  ----  '\n",
    "                    'Loss: {loss.val:7.4f} ({loss.avg:7.4f})'.format(\n",
    "                        epoch, i, len(train_loader),\n",
    "                        batch_time=batch_time,\n",
    "                        data_time=data_time,\n",
    "                        loss=losses\n",
    "                ))\n",
    "        \n",
    "    del lr_imgs, hr_imgs, sr_imgs  # free some memory since their histories may be stored\n",
    "    print()\n"
   ]
  },
  {
   "cell_type": "code",
   "execution_count": 5,
   "metadata": {},
   "outputs": [
    {
     "name": "stdout",
     "output_type": "stream",
     "text": [
      "Loading checkpoint: checkpoints/checkpoint_srresnet_37_.pth.tar\n"
     ]
    }
   ],
   "source": [
    "\"\"\"\n",
    "Training.\n",
    "\"\"\"\n",
    "global start_epoch, epoch, checkpoint\n",
    "\n",
    "checkpoint = \"checkpoints/checkpoint_srresnet_37_.pth.tar\"\n",
    "\n",
    "# Initialize model or load checkpoint\n",
    "if checkpoint is None:\n",
    "    print('Initializing model...')\n",
    "    model = SRResNet(large_kernel_size=large_kernel_size, small_kernel_size=small_kernel_size,\n",
    "                        n_channels=n_channels, n_blocks=n_blocks, scaling_factor=scaling_factor)\n",
    "    # Initialize the optimizer\n",
    "    optimizer = torch.optim.Adam(params=filter(lambda p: p.requires_grad, model.parameters()),\n",
    "                                    lr=lr)\n",
    "\n",
    "else:\n",
    "    print(f'Loading checkpoint: {checkpoint}')\n",
    "    checkpoint = torch.load(checkpoint)\n",
    "    start_epoch = checkpoint['epoch'] + 1\n",
    "    model = checkpoint['model']\n",
    "    optimizer = checkpoint['optimizer']\n",
    "\n",
    "# Move to default device\n",
    "model = model.to(device)\n",
    "criterion = nn.MSELoss().to(device)\n",
    "\n",
    "# Custom dataloaders\n",
    "train_dataset = SRDataset(data_folder,\n",
    "                            split='train',\n",
    "                            crop_size=crop_size,\n",
    "                            scaling_factor=scaling_factor,\n",
    "                            lr_img_type='imagenet-norm',\n",
    "                            hr_img_type='[-1, 1]')\n",
    "train_loader = torch.utils.data.DataLoader(train_dataset, batch_size=batch_size, shuffle=True, num_workers=workers,\n",
    "                                            pin_memory=True)  # note that we're passing the collate function here\n",
    "\n",
    "# Total number of epochs to train for\n",
    "epochs = int(iterations // len(train_loader) + 1)"
   ]
  },
  {
   "cell_type": "code",
   "execution_count": 6,
   "metadata": {},
   "outputs": [],
   "source": [
    "torch.cuda.empty_cache()"
   ]
  },
  {
   "cell_type": "code",
   "execution_count": 7,
   "metadata": {},
   "outputs": [
    {
     "name": "stdout",
     "output_type": "stream",
     "text": [
      "Training epoch: 38\n",
      "Epoch: [ 38][   0/   2]  ----  Batch Time: 10.737 (10.737)  ----  Data Time:  5.625 ( 5.625)  ----  Loss:  0.0409 ( 0.0409)\n",
      "\n",
      "Training epoch: 39\n",
      "Epoch: [ 39][   0/   2]  ----  Batch Time:  5.656 ( 5.656)  ----  Data Time:  5.406 ( 5.406)  ----  Loss:  0.0401 ( 0.0401)\n",
      "\n",
      "Training epoch: 40\n",
      "Epoch: [ 40][   0/   2]  ----  Batch Time:  5.534 ( 5.534)  ----  Data Time:  5.297 ( 5.297)  ----  Loss:  0.0423 ( 0.0423)\n",
      "\n",
      "Training epoch: 41\n",
      "Epoch: [ 41][   0/   2]  ----  Batch Time:  5.488 ( 5.488)  ----  Data Time:  5.244 ( 5.244)  ----  Loss:  0.0424 ( 0.0424)\n",
      "\n",
      "Training epoch: 42\n",
      "Epoch: [ 42][   0/   2]  ----  Batch Time:  5.594 ( 5.594)  ----  Data Time:  5.357 ( 5.357)  ----  Loss:  0.0413 ( 0.0413)\n",
      "\n",
      "Training epoch: 43\n",
      "Epoch: [ 43][   0/   2]  ----  Batch Time:  5.674 ( 5.674)  ----  Data Time:  5.438 ( 5.438)  ----  Loss:  0.0420 ( 0.0420)\n",
      "\n",
      "Training epoch: 44\n",
      "Epoch: [ 44][   0/   2]  ----  Batch Time:  5.573 ( 5.573)  ----  Data Time:  5.338 ( 5.338)  ----  Loss:  0.0421 ( 0.0421)\n",
      "\n",
      "Training epoch: 45\n",
      "Epoch: [ 45][   0/   2]  ----  Batch Time:  5.610 ( 5.610)  ----  Data Time:  5.380 ( 5.380)  ----  Loss:  0.0405 ( 0.0405)\n",
      "\n",
      "Training epoch: 46\n",
      "Epoch: [ 46][   0/   2]  ----  Batch Time:  5.607 ( 5.607)  ----  Data Time:  5.370 ( 5.370)  ----  Loss:  0.0414 ( 0.0414)\n",
      "\n",
      "Training epoch: 47\n",
      "Epoch: [ 47][   0/   2]  ----  Batch Time:  5.623 ( 5.623)  ----  Data Time:  5.388 ( 5.388)  ----  Loss:  0.0388 ( 0.0388)\n",
      "\n",
      "Training epoch: 48\n",
      "Epoch: [ 48][   0/   2]  ----  Batch Time:  5.560 ( 5.560)  ----  Data Time:  5.331 ( 5.331)  ----  Loss:  0.0403 ( 0.0403)\n",
      "\n",
      "Training epoch: 49\n",
      "Epoch: [ 49][   0/   2]  ----  Batch Time:  5.549 ( 5.549)  ----  Data Time:  5.284 ( 5.284)  ----  Loss:  0.0414 ( 0.0414)\n",
      "\n",
      "Training epoch: 50\n",
      "Epoch: [ 50][   0/   2]  ----  Batch Time:  5.589 ( 5.589)  ----  Data Time:  5.345 ( 5.345)  ----  Loss:  0.0405 ( 0.0405)\n",
      "\n",
      "Training epoch: 51\n",
      "Epoch: [ 51][   0/   2]  ----  Batch Time:  5.511 ( 5.511)  ----  Data Time:  5.253 ( 5.253)  ----  Loss:  0.0410 ( 0.0410)\n",
      "\n",
      "Training epoch: 52\n",
      "Epoch: [ 52][   0/   2]  ----  Batch Time:  5.573 ( 5.573)  ----  Data Time:  5.340 ( 5.340)  ----  Loss:  0.0368 ( 0.0368)\n",
      "\n",
      "Training epoch: 53\n",
      "Epoch: [ 53][   0/   2]  ----  Batch Time:  5.658 ( 5.658)  ----  Data Time:  5.426 ( 5.426)  ----  Loss:  0.0391 ( 0.0391)\n",
      "\n",
      "Training epoch: 54\n",
      "Epoch: [ 54][   0/   2]  ----  Batch Time:  5.684 ( 5.684)  ----  Data Time:  5.453 ( 5.453)  ----  Loss:  0.0409 ( 0.0409)\n",
      "\n",
      "Training epoch: 55\n",
      "Epoch: [ 55][   0/   2]  ----  Batch Time:  5.555 ( 5.555)  ----  Data Time:  5.309 ( 5.309)  ----  Loss:  0.0390 ( 0.0390)\n",
      "\n",
      "Training epoch: 56\n",
      "Epoch: [ 56][   0/   2]  ----  Batch Time:  5.565 ( 5.565)  ----  Data Time:  5.335 ( 5.335)  ----  Loss:  0.0396 ( 0.0396)\n",
      "\n",
      "Training epoch: 57\n",
      "Epoch: [ 57][   0/   2]  ----  Batch Time:  5.519 ( 5.519)  ----  Data Time:  5.269 ( 5.269)  ----  Loss:  0.0404 ( 0.0404)\n",
      "\n",
      "Training epoch: 58\n",
      "Epoch: [ 58][   0/   2]  ----  Batch Time:  5.589 ( 5.589)  ----  Data Time:  5.346 ( 5.346)  ----  Loss:  0.0406 ( 0.0406)\n",
      "\n",
      "Training epoch: 59\n",
      "Epoch: [ 59][   0/   2]  ----  Batch Time:  5.632 ( 5.632)  ----  Data Time:  5.397 ( 5.397)  ----  Loss:  0.0381 ( 0.0381)\n",
      "\n",
      "Training epoch: 60\n",
      "Epoch: [ 60][   0/   2]  ----  Batch Time:  5.779 ( 5.779)  ----  Data Time:  5.543 ( 5.543)  ----  Loss:  0.0404 ( 0.0404)\n",
      "\n",
      "Training epoch: 61\n",
      "Epoch: [ 61][   0/   2]  ----  Batch Time:  5.558 ( 5.558)  ----  Data Time:  5.314 ( 5.314)  ----  Loss:  0.0409 ( 0.0409)\n",
      "\n",
      "Training epoch: 62\n",
      "Epoch: [ 62][   0/   2]  ----  Batch Time:  5.531 ( 5.531)  ----  Data Time:  5.271 ( 5.271)  ----  Loss:  0.0404 ( 0.0404)\n",
      "\n",
      "Training epoch: 63\n",
      "Epoch: [ 63][   0/   2]  ----  Batch Time:  5.540 ( 5.540)  ----  Data Time:  5.291 ( 5.291)  ----  Loss:  0.0397 ( 0.0397)\n",
      "\n",
      "Training epoch: 64\n",
      "Epoch: [ 64][   0/   2]  ----  Batch Time:  5.641 ( 5.641)  ----  Data Time:  5.404 ( 5.404)  ----  Loss:  0.0406 ( 0.0406)\n",
      "\n",
      "Training epoch: 65\n",
      "Epoch: [ 65][   0/   2]  ----  Batch Time:  5.694 ( 5.694)  ----  Data Time:  5.463 ( 5.463)  ----  Loss:  0.0393 ( 0.0393)\n",
      "\n",
      "Training epoch: 66\n"
     ]
    },
    {
     "ename": "KeyboardInterrupt",
     "evalue": "",
     "output_type": "error",
     "traceback": [
      "\u001b[1;31m---------------------------------------------------------------------------\u001b[0m",
      "\u001b[1;31mKeyboardInterrupt\u001b[0m                         Traceback (most recent call last)",
      "Cell \u001b[1;32mIn[7], line 4\u001b[0m\n\u001b[0;32m      1\u001b[0m \u001b[38;5;66;03m# Epochs\u001b[39;00m\n\u001b[0;32m      2\u001b[0m \u001b[38;5;28;01mfor\u001b[39;00m epoch \u001b[38;5;129;01min\u001b[39;00m \u001b[38;5;28mrange\u001b[39m(start_epoch, epochs):\n\u001b[0;32m      3\u001b[0m     \u001b[38;5;66;03m# One epoch's training\u001b[39;00m\n\u001b[1;32m----> 4\u001b[0m     \u001b[43mtrain\u001b[49m\u001b[43m(\u001b[49m\u001b[43mtrain_loader\u001b[49m\u001b[38;5;241;43m=\u001b[39;49m\u001b[43mtrain_loader\u001b[49m\u001b[43m,\u001b[49m\n\u001b[0;32m      5\u001b[0m \u001b[43m            \u001b[49m\u001b[43mmodel\u001b[49m\u001b[38;5;241;43m=\u001b[39;49m\u001b[43mmodel\u001b[49m\u001b[43m,\u001b[49m\n\u001b[0;32m      6\u001b[0m \u001b[43m            \u001b[49m\u001b[43mcriterion\u001b[49m\u001b[38;5;241;43m=\u001b[39;49m\u001b[43mcriterion\u001b[49m\u001b[43m,\u001b[49m\n\u001b[0;32m      7\u001b[0m \u001b[43m            \u001b[49m\u001b[43moptimizer\u001b[49m\u001b[38;5;241;43m=\u001b[39;49m\u001b[43moptimizer\u001b[49m\u001b[43m,\u001b[49m\n\u001b[0;32m      8\u001b[0m \u001b[43m            \u001b[49m\u001b[43mepoch\u001b[49m\u001b[38;5;241;43m=\u001b[39;49m\u001b[43mepoch\u001b[49m\u001b[43m)\u001b[49m\n\u001b[0;32m     10\u001b[0m     \u001b[38;5;66;03m# Save checkpoint\u001b[39;00m\n\u001b[0;32m     11\u001b[0m     torch\u001b[38;5;241m.\u001b[39msave({\u001b[38;5;124m'\u001b[39m\u001b[38;5;124mepoch\u001b[39m\u001b[38;5;124m'\u001b[39m: epoch,\n\u001b[0;32m     12\u001b[0m                 \u001b[38;5;124m'\u001b[39m\u001b[38;5;124mmodel\u001b[39m\u001b[38;5;124m'\u001b[39m: model,\n\u001b[0;32m     13\u001b[0m                 \u001b[38;5;124m'\u001b[39m\u001b[38;5;124moptimizer\u001b[39m\u001b[38;5;124m'\u001b[39m: optimizer},\n\u001b[0;32m     14\u001b[0m                 \u001b[38;5;124mf\u001b[39m\u001b[38;5;124m'\u001b[39m\u001b[38;5;124mcheckpoints/checkpoint_srresnet_\u001b[39m\u001b[38;5;132;01m{\u001b[39;00mepoch\u001b[38;5;132;01m}\u001b[39;00m\u001b[38;5;124m_.pth.tar\u001b[39m\u001b[38;5;124m'\u001b[39m)\n",
      "Cell \u001b[1;32mIn[4], line 21\u001b[0m, in \u001b[0;36mtrain\u001b[1;34m(train_loader, model, criterion, optimizer, epoch)\u001b[0m\n\u001b[0;32m     18\u001b[0m start \u001b[38;5;241m=\u001b[39m time\u001b[38;5;241m.\u001b[39mtime()\n\u001b[0;32m     20\u001b[0m \u001b[38;5;66;03m# Batches\u001b[39;00m\n\u001b[1;32m---> 21\u001b[0m \u001b[43m\u001b[49m\u001b[38;5;28;43;01mfor\u001b[39;49;00m\u001b[43m \u001b[49m\u001b[43mi\u001b[49m\u001b[43m,\u001b[49m\u001b[43m \u001b[49m\u001b[43m(\u001b[49m\u001b[43mlr_imgs\u001b[49m\u001b[43m,\u001b[49m\u001b[43m \u001b[49m\u001b[43mhr_imgs\u001b[49m\u001b[43m)\u001b[49m\u001b[43m \u001b[49m\u001b[38;5;129;43;01min\u001b[39;49;00m\u001b[43m \u001b[49m\u001b[38;5;28;43menumerate\u001b[39;49m\u001b[43m(\u001b[49m\u001b[43mtrain_loader\u001b[49m\u001b[43m)\u001b[49m\u001b[43m:\u001b[49m\n\u001b[0;32m     22\u001b[0m \u001b[43m    \u001b[49m\u001b[43mdata_time\u001b[49m\u001b[38;5;241;43m.\u001b[39;49m\u001b[43mupdate\u001b[49m\u001b[43m(\u001b[49m\u001b[43mtime\u001b[49m\u001b[38;5;241;43m.\u001b[39;49m\u001b[43mtime\u001b[49m\u001b[43m(\u001b[49m\u001b[43m)\u001b[49m\u001b[43m \u001b[49m\u001b[38;5;241;43m-\u001b[39;49m\u001b[43m \u001b[49m\u001b[43mstart\u001b[49m\u001b[43m)\u001b[49m\n\u001b[0;32m     24\u001b[0m \u001b[43m    \u001b[49m\u001b[38;5;66;43;03m# Move to default device\u001b[39;49;00m\n",
      "File \u001b[1;32mc:\\Users\\alber\\anaconda3\\envs\\SUPER\\Lib\\site-packages\\torch\\utils\\data\\dataloader.py:631\u001b[0m, in \u001b[0;36m_BaseDataLoaderIter.__next__\u001b[1;34m(self)\u001b[0m\n\u001b[0;32m    628\u001b[0m \u001b[38;5;28;01mif\u001b[39;00m \u001b[38;5;28mself\u001b[39m\u001b[38;5;241m.\u001b[39m_sampler_iter \u001b[38;5;129;01mis\u001b[39;00m \u001b[38;5;28;01mNone\u001b[39;00m:\n\u001b[0;32m    629\u001b[0m     \u001b[38;5;66;03m# TODO(https://github.com/pytorch/pytorch/issues/76750)\u001b[39;00m\n\u001b[0;32m    630\u001b[0m     \u001b[38;5;28mself\u001b[39m\u001b[38;5;241m.\u001b[39m_reset()  \u001b[38;5;66;03m# type: ignore[call-arg]\u001b[39;00m\n\u001b[1;32m--> 631\u001b[0m data \u001b[38;5;241m=\u001b[39m \u001b[38;5;28;43mself\u001b[39;49m\u001b[38;5;241;43m.\u001b[39;49m\u001b[43m_next_data\u001b[49m\u001b[43m(\u001b[49m\u001b[43m)\u001b[49m\n\u001b[0;32m    632\u001b[0m \u001b[38;5;28mself\u001b[39m\u001b[38;5;241m.\u001b[39m_num_yielded \u001b[38;5;241m+\u001b[39m\u001b[38;5;241m=\u001b[39m \u001b[38;5;241m1\u001b[39m\n\u001b[0;32m    633\u001b[0m \u001b[38;5;28;01mif\u001b[39;00m \u001b[38;5;28mself\u001b[39m\u001b[38;5;241m.\u001b[39m_dataset_kind \u001b[38;5;241m==\u001b[39m _DatasetKind\u001b[38;5;241m.\u001b[39mIterable \u001b[38;5;129;01mand\u001b[39;00m \\\n\u001b[0;32m    634\u001b[0m         \u001b[38;5;28mself\u001b[39m\u001b[38;5;241m.\u001b[39m_IterableDataset_len_called \u001b[38;5;129;01mis\u001b[39;00m \u001b[38;5;129;01mnot\u001b[39;00m \u001b[38;5;28;01mNone\u001b[39;00m \u001b[38;5;129;01mand\u001b[39;00m \\\n\u001b[0;32m    635\u001b[0m         \u001b[38;5;28mself\u001b[39m\u001b[38;5;241m.\u001b[39m_num_yielded \u001b[38;5;241m>\u001b[39m \u001b[38;5;28mself\u001b[39m\u001b[38;5;241m.\u001b[39m_IterableDataset_len_called:\n",
      "File \u001b[1;32mc:\\Users\\alber\\anaconda3\\envs\\SUPER\\Lib\\site-packages\\torch\\utils\\data\\dataloader.py:1329\u001b[0m, in \u001b[0;36m_MultiProcessingDataLoaderIter._next_data\u001b[1;34m(self)\u001b[0m\n\u001b[0;32m   1326\u001b[0m     \u001b[38;5;28;01mreturn\u001b[39;00m \u001b[38;5;28mself\u001b[39m\u001b[38;5;241m.\u001b[39m_process_data(data)\n\u001b[0;32m   1328\u001b[0m \u001b[38;5;28;01massert\u001b[39;00m \u001b[38;5;129;01mnot\u001b[39;00m \u001b[38;5;28mself\u001b[39m\u001b[38;5;241m.\u001b[39m_shutdown \u001b[38;5;129;01mand\u001b[39;00m \u001b[38;5;28mself\u001b[39m\u001b[38;5;241m.\u001b[39m_tasks_outstanding \u001b[38;5;241m>\u001b[39m \u001b[38;5;241m0\u001b[39m\n\u001b[1;32m-> 1329\u001b[0m idx, data \u001b[38;5;241m=\u001b[39m \u001b[38;5;28;43mself\u001b[39;49m\u001b[38;5;241;43m.\u001b[39;49m\u001b[43m_get_data\u001b[49m\u001b[43m(\u001b[49m\u001b[43m)\u001b[49m\n\u001b[0;32m   1330\u001b[0m \u001b[38;5;28mself\u001b[39m\u001b[38;5;241m.\u001b[39m_tasks_outstanding \u001b[38;5;241m-\u001b[39m\u001b[38;5;241m=\u001b[39m \u001b[38;5;241m1\u001b[39m\n\u001b[0;32m   1331\u001b[0m \u001b[38;5;28;01mif\u001b[39;00m \u001b[38;5;28mself\u001b[39m\u001b[38;5;241m.\u001b[39m_dataset_kind \u001b[38;5;241m==\u001b[39m _DatasetKind\u001b[38;5;241m.\u001b[39mIterable:\n\u001b[0;32m   1332\u001b[0m     \u001b[38;5;66;03m# Check for _IterableDatasetStopIteration\u001b[39;00m\n",
      "File \u001b[1;32mc:\\Users\\alber\\anaconda3\\envs\\SUPER\\Lib\\site-packages\\torch\\utils\\data\\dataloader.py:1285\u001b[0m, in \u001b[0;36m_MultiProcessingDataLoaderIter._get_data\u001b[1;34m(self)\u001b[0m\n\u001b[0;32m   1283\u001b[0m \u001b[38;5;28;01melif\u001b[39;00m \u001b[38;5;28mself\u001b[39m\u001b[38;5;241m.\u001b[39m_pin_memory:\n\u001b[0;32m   1284\u001b[0m     \u001b[38;5;28;01mwhile\u001b[39;00m \u001b[38;5;28mself\u001b[39m\u001b[38;5;241m.\u001b[39m_pin_memory_thread\u001b[38;5;241m.\u001b[39mis_alive():\n\u001b[1;32m-> 1285\u001b[0m         success, data \u001b[38;5;241m=\u001b[39m \u001b[38;5;28;43mself\u001b[39;49m\u001b[38;5;241;43m.\u001b[39;49m\u001b[43m_try_get_data\u001b[49m\u001b[43m(\u001b[49m\u001b[43m)\u001b[49m\n\u001b[0;32m   1286\u001b[0m         \u001b[38;5;28;01mif\u001b[39;00m success:\n\u001b[0;32m   1287\u001b[0m             \u001b[38;5;28;01mreturn\u001b[39;00m data\n",
      "File \u001b[1;32mc:\\Users\\alber\\anaconda3\\envs\\SUPER\\Lib\\site-packages\\torch\\utils\\data\\dataloader.py:1133\u001b[0m, in \u001b[0;36m_MultiProcessingDataLoaderIter._try_get_data\u001b[1;34m(self, timeout)\u001b[0m\n\u001b[0;32m   1120\u001b[0m \u001b[38;5;28;01mdef\u001b[39;00m \u001b[38;5;21m_try_get_data\u001b[39m(\u001b[38;5;28mself\u001b[39m, timeout\u001b[38;5;241m=\u001b[39m_utils\u001b[38;5;241m.\u001b[39mMP_STATUS_CHECK_INTERVAL):\n\u001b[0;32m   1121\u001b[0m     \u001b[38;5;66;03m# Tries to fetch data from `self._data_queue` once for a given timeout.\u001b[39;00m\n\u001b[0;32m   1122\u001b[0m     \u001b[38;5;66;03m# This can also be used as inner loop of fetching without timeout, with\u001b[39;00m\n\u001b[1;32m   (...)\u001b[0m\n\u001b[0;32m   1130\u001b[0m     \u001b[38;5;66;03m# Returns a 2-tuple:\u001b[39;00m\n\u001b[0;32m   1131\u001b[0m     \u001b[38;5;66;03m#   (bool: whether successfully get data, any: data if successful else None)\u001b[39;00m\n\u001b[0;32m   1132\u001b[0m     \u001b[38;5;28;01mtry\u001b[39;00m:\n\u001b[1;32m-> 1133\u001b[0m         data \u001b[38;5;241m=\u001b[39m \u001b[38;5;28;43mself\u001b[39;49m\u001b[38;5;241;43m.\u001b[39;49m\u001b[43m_data_queue\u001b[49m\u001b[38;5;241;43m.\u001b[39;49m\u001b[43mget\u001b[49m\u001b[43m(\u001b[49m\u001b[43mtimeout\u001b[49m\u001b[38;5;241;43m=\u001b[39;49m\u001b[43mtimeout\u001b[49m\u001b[43m)\u001b[49m\n\u001b[0;32m   1134\u001b[0m         \u001b[38;5;28;01mreturn\u001b[39;00m (\u001b[38;5;28;01mTrue\u001b[39;00m, data)\n\u001b[0;32m   1135\u001b[0m     \u001b[38;5;28;01mexcept\u001b[39;00m \u001b[38;5;167;01mException\u001b[39;00m \u001b[38;5;28;01mas\u001b[39;00m e:\n\u001b[0;32m   1136\u001b[0m         \u001b[38;5;66;03m# At timeout and error, we manually check whether any worker has\u001b[39;00m\n\u001b[0;32m   1137\u001b[0m         \u001b[38;5;66;03m# failed. Note that this is the only mechanism for Windows to detect\u001b[39;00m\n\u001b[0;32m   1138\u001b[0m         \u001b[38;5;66;03m# worker failures.\u001b[39;00m\n",
      "File \u001b[1;32mc:\\Users\\alber\\anaconda3\\envs\\SUPER\\Lib\\queue.py:180\u001b[0m, in \u001b[0;36mQueue.get\u001b[1;34m(self, block, timeout)\u001b[0m\n\u001b[0;32m    178\u001b[0m         \u001b[38;5;28;01mif\u001b[39;00m remaining \u001b[38;5;241m<\u001b[39m\u001b[38;5;241m=\u001b[39m \u001b[38;5;241m0.0\u001b[39m:\n\u001b[0;32m    179\u001b[0m             \u001b[38;5;28;01mraise\u001b[39;00m Empty\n\u001b[1;32m--> 180\u001b[0m         \u001b[38;5;28;43mself\u001b[39;49m\u001b[38;5;241;43m.\u001b[39;49m\u001b[43mnot_empty\u001b[49m\u001b[38;5;241;43m.\u001b[39;49m\u001b[43mwait\u001b[49m\u001b[43m(\u001b[49m\u001b[43mremaining\u001b[49m\u001b[43m)\u001b[49m\n\u001b[0;32m    181\u001b[0m item \u001b[38;5;241m=\u001b[39m \u001b[38;5;28mself\u001b[39m\u001b[38;5;241m.\u001b[39m_get()\n\u001b[0;32m    182\u001b[0m \u001b[38;5;28mself\u001b[39m\u001b[38;5;241m.\u001b[39mnot_full\u001b[38;5;241m.\u001b[39mnotify()\n",
      "File \u001b[1;32mc:\\Users\\alber\\anaconda3\\envs\\SUPER\\Lib\\threading.py:359\u001b[0m, in \u001b[0;36mCondition.wait\u001b[1;34m(self, timeout)\u001b[0m\n\u001b[0;32m    357\u001b[0m \u001b[38;5;28;01melse\u001b[39;00m:\n\u001b[0;32m    358\u001b[0m     \u001b[38;5;28;01mif\u001b[39;00m timeout \u001b[38;5;241m>\u001b[39m \u001b[38;5;241m0\u001b[39m:\n\u001b[1;32m--> 359\u001b[0m         gotit \u001b[38;5;241m=\u001b[39m \u001b[43mwaiter\u001b[49m\u001b[38;5;241;43m.\u001b[39;49m\u001b[43macquire\u001b[49m\u001b[43m(\u001b[49m\u001b[38;5;28;43;01mTrue\u001b[39;49;00m\u001b[43m,\u001b[49m\u001b[43m \u001b[49m\u001b[43mtimeout\u001b[49m\u001b[43m)\u001b[49m\n\u001b[0;32m    360\u001b[0m     \u001b[38;5;28;01melse\u001b[39;00m:\n\u001b[0;32m    361\u001b[0m         gotit \u001b[38;5;241m=\u001b[39m waiter\u001b[38;5;241m.\u001b[39macquire(\u001b[38;5;28;01mFalse\u001b[39;00m)\n",
      "\u001b[1;31mKeyboardInterrupt\u001b[0m: "
     ]
    }
   ],
   "source": [
    "# Epochs\n",
    "for epoch in range(start_epoch, epochs):\n",
    "    # One epoch's training\n",
    "    train(train_loader=train_loader,\n",
    "            model=model,\n",
    "            criterion=criterion,\n",
    "            optimizer=optimizer,\n",
    "            epoch=epoch)\n",
    "\n",
    "    # Save checkpoint\n",
    "    torch.save({'epoch': epoch,\n",
    "                'model': model,\n",
    "                'optimizer': optimizer},\n",
    "                f'checkpoints/checkpoint_srresnet_{epoch}_.pth.tar')\n"
   ]
  },
  {
   "cell_type": "code",
   "execution_count": null,
   "metadata": {},
   "outputs": [],
   "source": []
  },
  {
   "cell_type": "code",
   "execution_count": null,
   "metadata": {},
   "outputs": [],
   "source": []
  },
  {
   "cell_type": "code",
   "execution_count": null,
   "metadata": {},
   "outputs": [],
   "source": []
  }
 ],
 "metadata": {
  "kernelspec": {
   "display_name": "Python 3",
   "language": "python",
   "name": "python3"
  },
  "language_info": {
   "codemirror_mode": {
    "name": "ipython",
    "version": 3
   },
   "file_extension": ".py",
   "mimetype": "text/x-python",
   "name": "python",
   "nbconvert_exporter": "python",
   "pygments_lexer": "ipython3",
   "version": "3.12.3"
  }
 },
 "nbformat": 4,
 "nbformat_minor": 2
}
